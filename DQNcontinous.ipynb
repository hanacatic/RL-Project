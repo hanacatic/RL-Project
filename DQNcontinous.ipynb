{
 "cells": [
  {
   "cell_type": "code",
   "execution_count": 3,
   "metadata": {},
   "outputs": [],
   "source": [
    "import gymnasium as gym\n",
    "import numpy as np\n",
    "import matplotlib\n",
    "import matplotlib.pyplot as plt\n",
    "import torch\n",
    "import random\n",
    "from collections import namedtuple, deque\n",
    "\n",
    "# set up matplotlib\n",
    "is_ipython = 'inline' in matplotlib.get_backend()\n",
    "if is_ipython:\n",
    "    from IPython import display\n"
   ]
  },
  {
   "cell_type": "markdown",
   "metadata": {},
   "source": [
    "**Replay Memory**"
   ]
  },
  {
   "cell_type": "code",
   "execution_count": 4,
   "metadata": {},
   "outputs": [],
   "source": [
    "Transition = namedtuple('Transition',('state', 'action', 'next_state', 'reward', 'done'))"
   ]
  },
  {
   "cell_type": "code",
   "execution_count": 5,
   "metadata": {},
   "outputs": [],
   "source": [
    "class ReplayMemory(object):\n",
    "    def __init__(self, capacity):\n",
    "        self.capacity = capacity\n",
    "        self.memory = deque([], maxlen = self.capacity) # cyclic buffer of bounded size\n",
    "    \n",
    "    def __len__(self):\n",
    "        return len(self.memory)\n",
    "    \n",
    "    def push(self, *args):\n",
    "        self.memory.append(Transition(*args))\n",
    "    \n",
    "    def sample(self, batch_size):\n",
    "        return random.sample(self.memory, batch_size)\n",
    "        "
   ]
  },
  {
   "cell_type": "markdown",
   "metadata": {},
   "source": [
    "**DQN**"
   ]
  },
  {
   "cell_type": "code",
   "execution_count": 6,
   "metadata": {},
   "outputs": [],
   "source": [
    "class DQN(torch.nn.Module):\n",
    "    \n",
    "    def __init__(self, n_observations, n_actions):\n",
    "        super(DQN, self).__init__()\n",
    "        self.layers = torch.nn.Sequential(\n",
    "            torch.nn.Linear(n_observations, 256),\n",
    "            torch.nn.ReLU(),\n",
    "            torch.nn.Linear(256,256), # only one hidden layer, the first two regarding the convolution as processing of input images are dropped\n",
    "            torch.nn.ReLU(),\n",
    "            torch.nn.Linear(256, n_actions)\n",
    "        )\n",
    "    \n",
    "    def forward(self, x):\n",
    "        return self.layers(x)\n",
    "        "
   ]
  },
  {
   "cell_type": "markdown",
   "metadata": {},
   "source": [
    "***Environment***"
   ]
  },
  {
   "cell_type": "code",
   "execution_count": 7,
   "metadata": {},
   "outputs": [],
   "source": [
    "env = gym.make(\"MountainCarContinuous-v0\")\n",
    "device = torch.device(\"cuda\" if torch.cuda.is_available() else \"cpu\")"
   ]
  },
  {
   "cell_type": "code",
   "execution_count": 8,
   "metadata": {},
   "outputs": [],
   "source": [
    "BATCH_SIZE = 128\n",
    "GAMMA = 0.99\n",
    "EPS_START = 0.99\n",
    "EPS_END = 0.001\n",
    "EPS_DECAY = 0.995  #old value 0.9\n",
    "REPLAY_MEMORY = 100000 \n",
    "LR = 0.0005 #1e-4\n",
    "GRID_SIZE = 10\n",
    "disc_action_space = np.linspace(-1.0, 1.0, GRID_SIZE) # discretize action space\n",
    "\n",
    "state, info = env.reset()\n",
    "n_actions = GRID_SIZE  # continuous action space with 10 discrete actions \n",
    "n_observations = len(state)\n",
    "\n",
    "memory = ReplayMemory(REPLAY_MEMORY)\n",
    "\n",
    "estimate_network = DQN(n_observations, n_actions)\n",
    "target_network = DQN(n_observations, n_actions)\n",
    "target_network.load_state_dict(estimate_network.state_dict())\n",
    "\n",
    "optimizer = torch.optim.AdamW(estimate_network.parameters(), lr = LR)\n",
    "\n",
    "episode_durations = []\n",
    "\n",
    "def discretize_action(action):\n",
    "    i=np.argmin(np.abs(disc_action_space - action))\n",
    "    return disc_action_space[i]\n",
    "\n",
    "def act(state, eps):\n",
    "    if random.random() < eps:\n",
    "        return torch.tensor([np.digitize(env.action_space.sample(), disc_action_space)], device=device, dtype=torch.long)\n",
    "    else: \n",
    "        with torch.no_grad(): # improves computation\n",
    "            return estimate_network(state).max(1).indices.view(1,1)\n",
    "        \n",
    "def plot_durations(show_result=False):\n",
    "    plt.figure(1)\n",
    "    durations_t = torch.tensor(episode_durations, dtype=torch.float)\n",
    "    if show_result:\n",
    "        plt.title('Result')\n",
    "    else:\n",
    "        plt.clf()\n",
    "        plt.title('Training...')\n",
    "    plt.xlabel('Episode')\n",
    "    plt.ylabel('Duration')\n",
    "    plt.plot(durations_t.numpy())\n",
    "    # Take 100 episode averages and plot them too\n",
    "    if len(durations_t) >= 100:\n",
    "        means = durations_t.unfold(0, 100, 1).mean(1).view(-1)\n",
    "        means = torch.cat((torch.zeros(99), means))\n",
    "        plt.plot(means.numpy())\n",
    "\n",
    "    plt.pause(0.001)  # pause a bit so that plots are updated\n",
    "    if is_ipython:\n",
    "        if not show_result:\n",
    "            display.display(plt.gcf())\n",
    "            display.clear_output(wait=True)\n",
    "        else:\n",
    "            display.display(plt.gcf())\n",
    "\n",
    "def converges(rewards):\n",
    "    if (np.mean(rewards[-100:]) - np.mean(rewards[-200:-100])) < 1:\n",
    "        return True\n",
    "    return False\n"
   ]
  },
  {
   "cell_type": "markdown",
   "metadata": {},
   "source": [
    "**Train**"
   ]
  },
  {
   "cell_type": "code",
   "execution_count": 14,
   "metadata": {},
   "outputs": [
    {
     "name": "stdout",
     "output_type": "stream",
     "text": [
      "episode 0 : -34.8234567901236 average score\n",
      "episode 25 : -0.2748641975310312 average score\n",
      "episode 50 : 74.38498765432095 average score\n",
      "episode 75 : 83.27051851851853 average score\n",
      "episode 100 : 84.52103703703706 average score\n",
      "episode 125 : 86.56735802469137 average score\n",
      "episode 150 : 88.26246913580249 average score\n",
      "episode 175 : 90.13866666666668 average score\n",
      "episode 200 : 90.17659259259261 average score\n",
      "episode 225 : 90.63925925925929 average score\n",
      "episode 250 : 89.87051851851851 average score\n",
      "episode 275 : 71.23106172839508 average score\n",
      "episode 300 : 71.24883950617286 average score\n",
      "episode 325 : 84.00029629629631 average score\n",
      "episode 350 : 90.8097777777778 average score\n",
      "episode 375 : 91.4935802469136 average score\n",
      "episode 400 : 92.20444444444445 average score\n",
      "episode 425 : 92.23925925925928 average score\n",
      "episode 450 : 91.93925925925927 average score\n",
      "episode 475 : 92.73293827160495 average score\n",
      "episode 500 : 83.50562962962964 average score\n",
      "episode 525 : 77.763012345679 average score\n",
      "episode 550 : 81.71125925925925 average score\n",
      "episode 575 : 91.72330864197531 average score\n",
      "episode 600 : 92.51338271604938 average score\n",
      "episode 625 : 93.04311111111112 average score\n",
      "episode 650 : 92.82548148148149 average score\n",
      "episode 675 : 93.18103703703706 average score\n",
      "episode 700 : 93.14829629629632 average score\n",
      "episode 725 : 93.04138271604941 average score\n",
      "episode 750 : 93.1023703703704 average score\n",
      "episode 775 : 93.14958024691359 average score\n",
      "episode 800 : 93.23091358024692 average score\n",
      "episode 825 : 93.33703703703705 average score\n",
      "episode 850 : 93.6911604938272 average score\n",
      "episode 875 : 93.22592592592595 average score\n",
      "episode 900 : 93.35481481481482 average score\n",
      "episode 925 : 92.96651851851853 average score\n",
      "episode 950 : 92.85674074074075 average score\n",
      "episode 975 : 93.53056790123458 average score\n"
     ]
    }
   ],
   "source": [
    "episode_rewards = []\n",
    "last_conv = 0\n",
    "successful_sequences = 0\n",
    "eps = EPS_START\n",
    "for ep in range(1000): # number of episodes i think full training is 6000 episodes\n",
    "    state, info = env.reset() # info in some environments has some additional information\n",
    "    state = torch.tensor(state, dtype=torch.float32, device=device).unsqueeze(0)\n",
    "    done = False\n",
    "    episode_reward = 0\n",
    "    \n",
    "\n",
    "    while not done:\n",
    "        \n",
    "        action =  act(state, eps) # epsilon greedy \n",
    "\n",
    "        next_state, reward, terminated, truncated, _  = env.step([disc_action_space[action.item()]]) # execute action\n",
    "        done = terminated or truncated\n",
    "        episode_reward += reward\n",
    "        \n",
    "        \n",
    "        next_state = torch.tensor(next_state, dtype=torch.float32, device=device).unsqueeze(0) # get next state\n",
    "        reward = torch.tensor(reward).to(device).float().unsqueeze(0) \n",
    "        done = torch.tensor(done).to(device).unsqueeze(0)\n",
    "\n",
    "        memory.push(state, action, next_state, reward, done) # store transition in replay memory\n",
    "        \n",
    "        \n",
    "        state = next_state\n",
    "        \n",
    "        if len(memory) > BATCH_SIZE: \n",
    "            transitions = memory.sample(BATCH_SIZE) # sample batch from replay memory\n",
    "            batch = Transition(*zip(*transitions))\n",
    "            # for action in batch.action:\n",
    "            #     print(action.shape)\n",
    "\n",
    "            next_state_batch = torch.cat(batch.next_state)\n",
    "            state_batch = torch.cat(batch.state)\n",
    "            action_batch = torch.cat(batch.action)\n",
    "            reward_batch = torch.cat(batch.reward)\n",
    "            done_batch = torch.cat(batch.done)\n",
    "            # determine if next state is terminal state (two approaches, one add done as part of the transition to the replay memory and second to try to determine it)\n",
    "            # non_final_mask = torch.tensor(tuple(map(lambda s: s is not None, batch.next_state)), device=device, dtype=torch.bool)\n",
    "            # but this will only check if it s terminal in the batch and not overall the influnce of this would be interesting to check for sure\n",
    "            \n",
    "            y = reward_batch + (done_batch == False) * GAMMA * target_network(next_state_batch).max(1).values # compute target\n",
    "            \n",
    "            criterion = torch.nn.SmoothL1Loss() # criterion defined as Huber loss less sensitive to outliers\n",
    "            loss = criterion(y, estimate_network(state_batch).gather(1, action_batch).squeeze(1)) # compute the loss\n",
    "            \n",
    "            optimizer.zero_grad() # not to accumulate gradients\n",
    "            loss.backward() # backpropagate the loss\n",
    "            for params in estimate_network.parameters():\n",
    "                params.grad.data.clamp_(-1,1)\n",
    "            # torch.nn.utils.clip_grad(estimate_network.parameters(), 1)  # why is clipping the parameters important do they get out of hand?       \n",
    "            optimizer.step()\n",
    "            # updating the target network\n",
    "            # one approach soft update and second approach delayed update to estimated network parameters\n",
    "\n",
    "\n",
    "    if ep % 5 == 0:\n",
    "        target_network.load_state_dict(estimate_network.state_dict())\n",
    "        \n",
    "\n",
    "    eps = max(EPS_END, eps*EPS_DECAY) # decay epsilon\n",
    "    episode_rewards.append(episode_reward) \n",
    "    \n",
    "    # if ep - last_conv > 200 and converges(episode_rewards):\n",
    "    #     eps = EPS_START\n",
    "    #     last_conv = ep\n",
    "    #     print('Resetting epsilon')\n",
    "\n",
    "\n",
    "    if ep % 25 == 0:\n",
    "        print('episode', ep, ':', np.mean(episode_rewards[-25:]), 'average score')\n",
    "        "
   ]
  },
  {
   "cell_type": "code",
   "execution_count": 17,
   "metadata": {},
   "outputs": [
    {
     "data": {
      "image/png": "[encoded data removed]",
      "text/plain": [
       "<Figure size 640x480 with 1 Axes>"
      ]
     },
     "metadata": {},
     "output_type": "display_data"
    }
   ],
   "source": [
    "timesteps = np.arange(0, len(episode_rewards))\n",
    "plt.plot(timesteps, episode_rewards, label='fullconverge')\n",
    "plt.xlabel('Episode')\n",
    "plt.ylabel('Episode Reward')\n",
    "plt.title('DQN Mountain Car Continuous v0')\n",
    "plt.legend()\n",
    "plt.grid(True)\n",
    "plt.show()"
   ]
  },
  {
   "cell_type": "code",
   "execution_count": 16,
   "metadata": {},
   "outputs": [],
   "source": [
    "# Save the results\n",
    "np.save('DQN_continous_seed11.npy', episode_rewards)\n"
   ]
  },
  {
   "cell_type": "code",
   "execution_count": null,
   "metadata": {},
   "outputs": [],
   "source": [
    "env.close()\n",
    "env = gym.make(\"MountainCarContinuous-v0\", render_mode=\"human\")\n",
    "\n",
    "state, _ = env.reset()\n",
    "\n",
    "state = torch.tensor(state).to(device).float().unsqueeze(0)\n",
    "ep_count = 0\n",
    "current_ep_reward = 0\n",
    "scores = []\n",
    "while ep_count < 50:\n",
    "    env.render()\n",
    "    action = act(state, 0)\n",
    "    state, reward, terminated, truncated, _  = env.step([disc_action_space[action.item()]]) # execute action\n",
    "    state = torch.tensor(state).to(device).float().unsqueeze(0)\n",
    "    current_ep_reward += reward\n",
    "    done = terminated or truncated \n",
    "    \n",
    "    if done:\n",
    "        ep_count += 1\n",
    "        scores.append(current_ep_reward)\n",
    "        current_ep_reward = 0\n",
    "        state, _ = env.reset()\n",
    "        state = torch.tensor(state).to(device).float().unsqueeze(0)\n"
   ]
  },
  {
   "cell_type": "code",
   "execution_count": null,
   "metadata": {},
   "outputs": [
    {
     "name": "stdout",
     "output_type": "stream",
     "text": [
      "[94.81024930747922, 93.85623268698062, 94.81024930747922, 94.91024930747923, 93.95789473684212, 94.2639889196676]\n"
     ]
    }
   ],
   "source": [
    "print(scores)"
   ]
  },
  {
   "cell_type": "code",
   "execution_count": null,
   "metadata": {},
   "outputs": [],
   "source": []
  }
 ],
 "metadata": {
  "kernelspec": {
   "display_name": "Python 3",
   "language": "python",
   "name": "python3"
  },
  "language_info": {
   "codemirror_mode": {
    "name": "ipython",
    "version": 3
   },
   "file_extension": ".py",
   "mimetype": "text/x-python",
   "name": "python",
   "nbconvert_exporter": "python",
   "pygments_lexer": "ipython3",
   "version": "3.11.2"
  }
 },
 "nbformat": 4,
 "nbformat_minor": 2
}
